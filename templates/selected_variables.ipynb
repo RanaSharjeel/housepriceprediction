{
 "cells": [
  {
   "cell_type": "code",
   "execution_count": 2,
   "metadata": {},
   "outputs": [],
   "source": [
    "#Import libs\n",
    "import pandas as pd\n",
    "import matplotlib.pyplot as plt\n",
    "import seaborn as sns"
   ]
  },
  {
   "cell_type": "code",
   "execution_count": 3,
   "metadata": {},
   "outputs": [
    {
     "data": {
      "text/plain": [
       "Index(['Id', 'MSSubClass', 'MSZoning', 'LotFrontage', 'LotArea', 'Street',\n",
       "       'Alley', 'LotShape', 'LandContour', 'Utilities', 'LotConfig',\n",
       "       'LandSlope', 'Neighborhood', 'Condition1', 'Condition2', 'BldgType',\n",
       "       'HouseStyle', 'OverallQual', 'OverallCond', 'YearBuilt', 'YearRemodAdd',\n",
       "       'RoofStyle', 'RoofMatl', 'Exterior1st', 'Exterior2nd', 'MasVnrType',\n",
       "       'MasVnrArea', 'ExterQual', 'ExterCond', 'Foundation', 'BsmtQual',\n",
       "       'BsmtCond', 'BsmtExposure', 'BsmtFinType1', 'BsmtFinSF1',\n",
       "       'BsmtFinType2', 'BsmtFinSF2', 'BsmtUnfSF', 'TotalBsmtSF', 'Heating',\n",
       "       'HeatingQC', 'CentralAir', 'Electrical', '1stFlrSF', '2ndFlrSF',\n",
       "       'LowQualFinSF', 'GrLivArea', 'BsmtFullBath', 'BsmtHalfBath', 'FullBath',\n",
       "       'HalfBath', 'BedroomAbvGr', 'KitchenAbvGr', 'KitchenQual',\n",
       "       'TotRmsAbvGrd', 'Functional', 'Fireplaces', 'FireplaceQu', 'GarageType',\n",
       "       'GarageYrBlt', 'GarageFinish', 'GarageCars', 'GarageArea', 'GarageQual',\n",
       "       'GarageCond', 'PavedDrive', 'WoodDeckSF', 'OpenPorchSF',\n",
       "       'EnclosedPorch', '3SsnPorch', 'ScreenPorch', 'PoolArea', 'PoolQC',\n",
       "       'Fence', 'MiscFeature', 'MiscVal', 'MoSold', 'YrSold', 'SaleType',\n",
       "       'SaleCondition', 'SalePrice'],\n",
       "      dtype='object')"
      ]
     },
     "execution_count": 3,
     "metadata": {},
     "output_type": "execute_result"
    }
   ],
   "source": [
    "train_file_path = './train.csv'\n",
    "df_train = pd.read_csv(train_file_path)\n",
    "df_train.columns\n"
   ]
  },
  {
   "cell_type": "markdown",
   "metadata": {},
   "source": [
    "<h2>Determining the important variables that affect SalePrice</h2>\n",
    "Through visual analyisis of the data, we can conclude that approximately the variables that seem to affect the SalePrice the most dramatically turn out to be: <b>OverallQual</b>, <b>YearBuilt</b>, <b>TotalBsmtSF</b> and <b>GrLivArea</b>. There are many other variables that seem to affect the SalePrice in a positive correlation trend, however these are the most obvious ones when doing a visual analyisis."
   ]
  },
  {
   "cell_type": "code",
   "execution_count": 4,
   "metadata": {
    "scrolled": false
   },
   "outputs": [
    {
     "data": {
      "text/html": [
       "<div>\n",
       "<style scoped>\n",
       "    .dataframe tbody tr th:only-of-type {\n",
       "        vertical-align: middle;\n",
       "    }\n",
       "\n",
       "    .dataframe tbody tr th {\n",
       "        vertical-align: top;\n",
       "    }\n",
       "\n",
       "    .dataframe thead th {\n",
       "        text-align: right;\n",
       "    }\n",
       "</style>\n",
       "<table border=\"1\" class=\"dataframe\">\n",
       "  <thead>\n",
       "    <tr style=\"text-align: right;\">\n",
       "      <th></th>\n",
       "      <th>OverallQual</th>\n",
       "      <th>YearBuilt</th>\n",
       "      <th>TotalBsmtSF</th>\n",
       "      <th>GrLivArea</th>\n",
       "      <th>SalePrice</th>\n",
       "    </tr>\n",
       "  </thead>\n",
       "  <tbody>\n",
       "    <tr>\n",
       "      <th>0</th>\n",
       "      <td>7</td>\n",
       "      <td>2003</td>\n",
       "      <td>856</td>\n",
       "      <td>1710</td>\n",
       "      <td>208500</td>\n",
       "    </tr>\n",
       "    <tr>\n",
       "      <th>1</th>\n",
       "      <td>6</td>\n",
       "      <td>1976</td>\n",
       "      <td>1262</td>\n",
       "      <td>1262</td>\n",
       "      <td>181500</td>\n",
       "    </tr>\n",
       "    <tr>\n",
       "      <th>2</th>\n",
       "      <td>7</td>\n",
       "      <td>2001</td>\n",
       "      <td>920</td>\n",
       "      <td>1786</td>\n",
       "      <td>223500</td>\n",
       "    </tr>\n",
       "    <tr>\n",
       "      <th>3</th>\n",
       "      <td>7</td>\n",
       "      <td>1915</td>\n",
       "      <td>756</td>\n",
       "      <td>1717</td>\n",
       "      <td>140000</td>\n",
       "    </tr>\n",
       "    <tr>\n",
       "      <th>4</th>\n",
       "      <td>8</td>\n",
       "      <td>2000</td>\n",
       "      <td>1145</td>\n",
       "      <td>2198</td>\n",
       "      <td>250000</td>\n",
       "    </tr>\n",
       "  </tbody>\n",
       "</table>\n",
       "</div>"
      ],
      "text/plain": [
       "   OverallQual  YearBuilt  TotalBsmtSF  GrLivArea  SalePrice\n",
       "0            7       2003          856       1710     208500\n",
       "1            6       1976         1262       1262     181500\n",
       "2            7       2001          920       1786     223500\n",
       "3            7       1915          756       1717     140000\n",
       "4            8       2000         1145       2198     250000"
      ]
     },
     "execution_count": 4,
     "metadata": {},
     "output_type": "execute_result"
    }
   ],
   "source": [
    "#Filter out the important variables and store them\n",
    "important_vars = ['OverallQual','YearBuilt','TotalBsmtSF','GrLivArea','SalePrice']\n",
    "df_specific = df_train[important_vars]\n",
    "#Print visual view of data\n",
    "df_specific.head()"
   ]
  },
  {
   "cell_type": "markdown",
   "metadata": {},
   "source": [
    "<h2>How each of these variables affect SalePrice and what they mean</h2>\n",
    "<ul>\n",
    "    <li><b>OverallQual</b> - This is the overall quality of the house, It's not given or obvious how this figure was calculated, but the general trend seems to be that the higher this number is, the higher the SalePrice will be.</li>\n",
    "    <li><b>YearBuilt</b> - The year the house was built, there seems to be some variance with this however generally, the SalePrice seems to increase as the houses get newer.</li>\n",
    "    <li><b>TotalBsmtSF</b> - Total basement surface area, as the basement gets larger, the SalePrice increases</li>\n",
    "    <li><b>GrLivArea</b> - Ground floor living area, as it gets larger, the SalePrice increases</li>\n",
    "</ul>"
   ]
  },
  {
   "cell_type": "code",
   "execution_count": 5,
   "metadata": {},
   "outputs": [
    {
     "name": "stdout",
     "output_type": "stream",
     "text": [
      "Example: SalePrice is far lower in this record compared to\n",
      "   OverallQual  YearBuilt  TotalBsmtSF  GrLivArea  SalePrice\n",
      "3            7       1915          756       1717     140000\n",
      "\n",
      "this one\n",
      "   OverallQual  YearBuilt  TotalBsmtSF  GrLivArea  SalePrice\n",
      "4            8       2000         1145       2198     250000\n",
      "\n",
      "\n",
      "All trends described above seem to generate a higher saleprice as predicted in the second record\n"
     ]
    }
   ],
   "source": [
    "print(\"Example: SalePrice is far lower in this record compared to\")\n",
    "print(df_specific.loc[[3]])\n",
    "print(\"\\nthis one\")\n",
    "print(df_specific.loc[[4]])\n",
    "print(\"\\n\\nAll trends described above seem to generate a higher saleprice as predicted in the second record\")"
   ]
  },
  {
   "cell_type": "code",
   "execution_count": 6,
   "metadata": {},
   "outputs": [
    {
     "data": {
      "text/plain": [
       "count      1460.000000\n",
       "mean     180921.195890\n",
       "std       79442.502883\n",
       "min       34900.000000\n",
       "25%      129975.000000\n",
       "50%      163000.000000\n",
       "75%      214000.000000\n",
       "max      755000.000000\n",
       "Name: SalePrice, dtype: float64"
      ]
     },
     "execution_count": 6,
     "metadata": {},
     "output_type": "execute_result"
    }
   ],
   "source": [
    "#Check how Sale Price is distributed with these variables compared to the rest\n",
    "df_specific['SalePrice'].describe()"
   ]
  },
  {
   "cell_type": "code",
   "execution_count": 7,
   "metadata": {},
   "outputs": [
    {
     "data": {
      "text/plain": [
       "Text(0, 0.5, 'Sale Price')"
      ]
     },
     "execution_count": 7,
     "metadata": {},
     "output_type": "execute_result"
    },
    {
     "data": {
      "image/png": "[encoded data removed]",
      "text/plain": [
       "<Figure size 432x288 with 1 Axes>"
      ]
     },
     "metadata": {
      "needs_background": "light"
     },
     "output_type": "display_data"
    }
   ],
   "source": [
    "#GrLivArea trend\n",
    "plt.scatter(df_specific['GrLivArea'],df_specific['SalePrice'])\n",
    "plt.xlabel('Living Area')\n",
    "plt.ylabel('Sale Price')\n",
    "#Trend matches with prediciton, as the grlivarea increases, generally there is a strong positive correlation with saleprice"
   ]
  },
  {
   "cell_type": "code",
   "execution_count": 8,
   "metadata": {},
   "outputs": [
    {
     "data": {
      "text/plain": [
       "Text(0, 0.5, 'Sale Price')"
      ]
     },
     "execution_count": 8,
     "metadata": {},
     "output_type": "execute_result"
    },
    {
     "data": {
      "image/png": "[encoded data removed]",
      "text/plain": [
       "<Figure size 432x288 with 1 Axes>"
      ]
     },
     "metadata": {
      "needs_background": "light"
     },
     "output_type": "display_data"
    }
   ],
   "source": [
    "#The same prediciton is valid with the basement surface area\n",
    "plt.scatter(df_specific['TotalBsmtSF'],df_specific['SalePrice'])\n",
    "plt.xlabel('Basement Surface Area')\n",
    "plt.ylabel('Sale Price')"
   ]
  },
  {
   "cell_type": "markdown",
   "metadata": {},
   "source": [
    "<h3>An interesting trend with basement surface area</h3>\n",
    "There is a lot of variance in the Sale Price when the basement surface area is at 0, this may be due to the fact that a lot of houses don't have basements, this is accounted for however looking at the scatter graph in general, we can still determine that the total basement surface area has a huge affect on the sale price due to the strong positive correlation"
   ]
  },
  {
   "cell_type": "code",
   "execution_count": 9,
   "metadata": {},
   "outputs": [
    {
     "name": "stderr",
     "output_type": "stream",
     "text": [
      "C:\\Users\\sharr\\Anaconda3\\lib\\site-packages\\scipy\\stats\\stats.py:1713: FutureWarning: Using a non-tuple sequence for multidimensional indexing is deprecated; use `arr[tuple(seq)]` instead of `arr[seq]`. In the future this will be interpreted as an array index, `arr[np.array(seq)]`, which will result either in an error or a different result.\n",
      "  return np.add.reduce(sorted[indexer] * weights, axis=axis) / sumval\n"
     ]
    },
    {
     "data": {
      "text/plain": [
       "Text(0, 0.5, 'Sale Price')"
      ]
     },
     "execution_count": 9,
     "metadata": {},
     "output_type": "execute_result"
    },
    {
     "data": {
      "image/png": "[encoded data removed]",
      "text/plain": [
       "<Figure size 432x288 with 1 Axes>"
      ]
     },
     "metadata": {
      "needs_background": "light"
     },
     "output_type": "display_data"
    }
   ],
   "source": [
    "#How overall quality affects the sale price \n",
    "quality_sale = df_specific[['OverallQual','SalePrice']]\n",
    "sns.barplot(df_specific['OverallQual'],df_specific['SalePrice'],data=quality_sale)\n",
    "plt.xlabel('Overall Quality')\n",
    "plt.ylabel('Sale Price')"
   ]
  },
  {
   "cell_type": "markdown",
   "metadata": {},
   "source": [
    "<h3>Crystal clear trend with overall quality</h3>\n",
    "An overall quality rating is given to each house between 1 and 10, from this graph we can conclude that the higher the overall quality is, the better the house must be. This is a crystal clear trend that has little to no variance on how the quality is distributed, it is very clear that as the quality increases, so does the sale price"
   ]
  },
  {
   "cell_type": "code",
   "execution_count": 11,
   "metadata": {},
   "outputs": [
    {
     "data": {
      "text/plain": [
       "Text(0, 0.5, 'Year Built')"
      ]
     },
     "execution_count": 11,
     "metadata": {},
     "output_type": "execute_result"
    },
    {
     "data": {
      "image/png": "[encoded data removed]",
      "text/plain": [
       "<Figure size 720x720 with 1 Axes>"
      ]
     },
     "metadata": {
      "needs_background": "light"
     },
     "output_type": "display_data"
    }
   ],
   "source": [
    "#How the year the house was built affects the sale price\n",
    "plt.figure(figsize=(10,10))\n",
    "plt.barh(df_specific['YearBuilt'],df_specific['SalePrice'],color='pink')\n",
    "plt.xlabel('Sale Price')\n",
    "plt.ylabel('Year Built')"
   ]
  },
  {
   "cell_type": "markdown",
   "metadata": {},
   "source": [
    "<h3>Comments on trend about year built</h3>\n",
    "Althought there seems to be quite an obvious trend that newer houses are more expensive, we can see that some of the really old ones compete quite well with the new ones, especially those from 1880s-1900s, this may be due to the houses having a histroic value, which affects the overall sale price (could be seen as 'antique')"
   ]
  },
  {
   "cell_type": "markdown",
   "metadata": {},
   "source": [
    "<h1>Conclusion</h1>\n",
    "These select few variables are perfect to create the regression model for our house sale price predictions as they all have strong trends dependant on the sale price, a lot of variables usually have little to no significance when it comes to determining the final price, so it was important for us to filter them out, or our model could have inaccuracies."
   ]
  },
  {
   "cell_type": "code",
   "execution_count": null,
   "metadata": {},
   "outputs": [],
   "source": []
  }
 ],
 "metadata": {
  "kernelspec": {
   "display_name": "Python 3",
   "language": "python",
   "name": "python3"
  },
  "language_info": {
   "codemirror_mode": {
    "name": "ipython",
    "version": 3
   },
   "file_extension": ".py",
   "mimetype": "text/x-python",
   "name": "python",
   "nbconvert_exporter": "python",
   "pygments_lexer": "ipython3",
   "version": "3.7.1"
  }
 },
 "nbformat": 4,
 "nbformat_minor": 2
}
