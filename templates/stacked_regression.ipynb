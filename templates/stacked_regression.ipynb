{
 "cells": [
  {
   "cell_type": "code",
   "execution_count": 1,
   "metadata": {},
   "outputs": [
    {
     "name": "stdout",
     "output_type": "stream",
     "text": [
      "/home/sharrq1/myjupyter\n"
     ]
    }
   ],
   "source": [
    "import os\n",
    "import pandas as pd\n",
    "import matplotlib.pyplot as plt\n",
    "import seaborn as sns\n",
    "%matplotlib inline\n",
    "print(os.getcwd())\n"
   ]
  },
  {
   "cell_type": "markdown",
   "metadata": {},
   "source": [
    "<h4>OUTLINE:</h4>\n",
    "<font color='teal'>\n",
    "<ul>\n",
    "    <li>Distribution of the variables</li>\n",
    "    <li>Relationship with the sales price</li>\n",
    "    <li>Relationship with each other</li>\n",
    "    <li>Scatter plot with each other</li>\n",
    "    <li>Does it have any missing values</li>\n",
    "    <li>How many of them are categorical variables</li>\n",
    "    <li>If it is categorical, what to do</li>\n",
    "    <li>How to convert into dummy variables</li>\n",
    "</ul>\n",
    "</font>"
   ]
  },
  {
   "cell_type": "code",
   "execution_count": 2,
   "metadata": {},
   "outputs": [],
   "source": [
    "#Init dataframe\n",
    "df_train = pd.read_csv('train.csv')"
   ]
  },
  {
   "cell_type": "code",
   "execution_count": 3,
   "metadata": {},
   "outputs": [
    {
     "name": "stdout",
     "output_type": "stream",
     "text": [
      "['MSSubClass', 'MSZoning', 'LotFrontage', 'LotArea', 'Street', 'Alley', 'LotShape', 'LandContour', 'Utilities', 'LotConfig', 'LandSlope', 'Neighborhood', 'Condition1', 'Condition2', 'BldgType', 'HouseStyle', 'SalePrice']\n"
     ]
    }
   ],
   "source": [
    "#List columns of dataframe\n",
    "#Interested in first 16 variables (and sale price), excluding ID which is just a unique identifier\n",
    "columns = []\n",
    "list_columns = df_train.columns\n",
    "for i in range(1,len(list_columns)):\n",
    "    if i<=16:\n",
    "        columns.append(list_columns[i])\n",
    "columns.append('SalePrice') #Exception\n",
    "print(columns)"
   ]
  },
  {
   "cell_type": "code",
   "execution_count": 4,
   "metadata": {},
   "outputs": [
    {
     "data": {
      "text/html": [
       "<div>\n",
       "<style scoped>\n",
       "    .dataframe tbody tr th:only-of-type {\n",
       "        vertical-align: middle;\n",
       "    }\n",
       "\n",
       "    .dataframe tbody tr th {\n",
       "        vertical-align: top;\n",
       "    }\n",
       "\n",
       "    .dataframe thead th {\n",
       "        text-align: right;\n",
       "    }\n",
       "</style>\n",
       "<table border=\"1\" class=\"dataframe\">\n",
       "  <thead>\n",
       "    <tr style=\"text-align: right;\">\n",
       "      <th></th>\n",
       "      <th>MSSubClass</th>\n",
       "      <th>MSZoning</th>\n",
       "      <th>LotFrontage</th>\n",
       "      <th>LotArea</th>\n",
       "      <th>Street</th>\n",
       "      <th>Alley</th>\n",
       "      <th>LotShape</th>\n",
       "      <th>LandContour</th>\n",
       "      <th>Utilities</th>\n",
       "      <th>LotConfig</th>\n",
       "      <th>LandSlope</th>\n",
       "      <th>Neighborhood</th>\n",
       "      <th>Condition1</th>\n",
       "      <th>Condition2</th>\n",
       "      <th>BldgType</th>\n",
       "      <th>HouseStyle</th>\n",
       "      <th>SalePrice</th>\n",
       "    </tr>\n",
       "  </thead>\n",
       "  <tbody>\n",
       "    <tr>\n",
       "      <th>0</th>\n",
       "      <td>60</td>\n",
       "      <td>RL</td>\n",
       "      <td>65.0</td>\n",
       "      <td>8450</td>\n",
       "      <td>Pave</td>\n",
       "      <td>NaN</td>\n",
       "      <td>Reg</td>\n",
       "      <td>Lvl</td>\n",
       "      <td>AllPub</td>\n",
       "      <td>Inside</td>\n",
       "      <td>Gtl</td>\n",
       "      <td>CollgCr</td>\n",
       "      <td>Norm</td>\n",
       "      <td>Norm</td>\n",
       "      <td>1Fam</td>\n",
       "      <td>2Story</td>\n",
       "      <td>208500</td>\n",
       "    </tr>\n",
       "    <tr>\n",
       "      <th>1</th>\n",
       "      <td>20</td>\n",
       "      <td>RL</td>\n",
       "      <td>80.0</td>\n",
       "      <td>9600</td>\n",
       "      <td>Pave</td>\n",
       "      <td>NaN</td>\n",
       "      <td>Reg</td>\n",
       "      <td>Lvl</td>\n",
       "      <td>AllPub</td>\n",
       "      <td>FR2</td>\n",
       "      <td>Gtl</td>\n",
       "      <td>Veenker</td>\n",
       "      <td>Feedr</td>\n",
       "      <td>Norm</td>\n",
       "      <td>1Fam</td>\n",
       "      <td>1Story</td>\n",
       "      <td>181500</td>\n",
       "    </tr>\n",
       "    <tr>\n",
       "      <th>2</th>\n",
       "      <td>60</td>\n",
       "      <td>RL</td>\n",
       "      <td>68.0</td>\n",
       "      <td>11250</td>\n",
       "      <td>Pave</td>\n",
       "      <td>NaN</td>\n",
       "      <td>IR1</td>\n",
       "      <td>Lvl</td>\n",
       "      <td>AllPub</td>\n",
       "      <td>Inside</td>\n",
       "      <td>Gtl</td>\n",
       "      <td>CollgCr</td>\n",
       "      <td>Norm</td>\n",
       "      <td>Norm</td>\n",
       "      <td>1Fam</td>\n",
       "      <td>2Story</td>\n",
       "      <td>223500</td>\n",
       "    </tr>\n",
       "    <tr>\n",
       "      <th>3</th>\n",
       "      <td>70</td>\n",
       "      <td>RL</td>\n",
       "      <td>60.0</td>\n",
       "      <td>9550</td>\n",
       "      <td>Pave</td>\n",
       "      <td>NaN</td>\n",
       "      <td>IR1</td>\n",
       "      <td>Lvl</td>\n",
       "      <td>AllPub</td>\n",
       "      <td>Corner</td>\n",
       "      <td>Gtl</td>\n",
       "      <td>Crawfor</td>\n",
       "      <td>Norm</td>\n",
       "      <td>Norm</td>\n",
       "      <td>1Fam</td>\n",
       "      <td>2Story</td>\n",
       "      <td>140000</td>\n",
       "    </tr>\n",
       "    <tr>\n",
       "      <th>4</th>\n",
       "      <td>60</td>\n",
       "      <td>RL</td>\n",
       "      <td>84.0</td>\n",
       "      <td>14260</td>\n",
       "      <td>Pave</td>\n",
       "      <td>NaN</td>\n",
       "      <td>IR1</td>\n",
       "      <td>Lvl</td>\n",
       "      <td>AllPub</td>\n",
       "      <td>FR2</td>\n",
       "      <td>Gtl</td>\n",
       "      <td>NoRidge</td>\n",
       "      <td>Norm</td>\n",
       "      <td>Norm</td>\n",
       "      <td>1Fam</td>\n",
       "      <td>2Story</td>\n",
       "      <td>250000</td>\n",
       "    </tr>\n",
       "  </tbody>\n",
       "</table>\n",
       "</div>"
      ],
      "text/plain": [
       "   MSSubClass MSZoning  LotFrontage  LotArea Street Alley LotShape  \\\n",
       "0          60       RL         65.0     8450   Pave   NaN      Reg   \n",
       "1          20       RL         80.0     9600   Pave   NaN      Reg   \n",
       "2          60       RL         68.0    11250   Pave   NaN      IR1   \n",
       "3          70       RL         60.0     9550   Pave   NaN      IR1   \n",
       "4          60       RL         84.0    14260   Pave   NaN      IR1   \n",
       "\n",
       "  LandContour Utilities LotConfig LandSlope Neighborhood Condition1  \\\n",
       "0         Lvl    AllPub    Inside       Gtl      CollgCr       Norm   \n",
       "1         Lvl    AllPub       FR2       Gtl      Veenker      Feedr   \n",
       "2         Lvl    AllPub    Inside       Gtl      CollgCr       Norm   \n",
       "3         Lvl    AllPub    Corner       Gtl      Crawfor       Norm   \n",
       "4         Lvl    AllPub       FR2       Gtl      NoRidge       Norm   \n",
       "\n",
       "  Condition2 BldgType HouseStyle  SalePrice  \n",
       "0       Norm     1Fam     2Story     208500  \n",
       "1       Norm     1Fam     1Story     181500  \n",
       "2       Norm     1Fam     2Story     223500  \n",
       "3       Norm     1Fam     2Story     140000  \n",
       "4       Norm     1Fam     2Story     250000  "
      ]
     },
     "execution_count": 4,
     "metadata": {},
     "output_type": "execute_result"
    }
   ],
   "source": [
    "#Create the dataframe with the handpicked columns\n",
    "df_specific = df_train[columns]\n",
    "df_specific.head()"
   ]
  },
  {
   "cell_type": "code",
   "execution_count": 5,
   "metadata": {},
   "outputs": [
    {
     "name": "stdout",
     "output_type": "stream",
     "text": [
      "Categorical: ['MSSubClass', 'MSZoning', 'Street', 'Alley', 'LotShape', 'LandContour', 'Utilities', 'LotConfig', 'LandSlope', 'Neighborhood', 'Condition1', 'Condition2', 'BldgType', 'HouseStyle'] \n",
      "\n",
      "Quantitative: ['LotFrontage', 'LotArea', 'Alley', 'SalePrice'] \n",
      "\n",
      "There are 14 categorical variables\n"
     ]
    }
   ],
   "source": [
    "#Array to store the variables of different categories\n",
    "\n",
    "c_vars = [] #categorical variables\n",
    "q_vars = [] #quantitative variables\n",
    "\n",
    "c_vars.append('MSSubClass') #EXCEPTION\n",
    "\n",
    "for i in df_specific:\n",
    "    for value in df_specific[i]:\n",
    "        if type(value)==str and (i not in c_vars):\n",
    "            c_vars.append(i)\n",
    "        elif type(value)!=str and (i not in q_vars) and i!='MSSubClass':\n",
    "            q_vars.append(i)\n",
    "print(\"Categorical:\",c_vars,\"\\n\")\n",
    "print(\"Quantitative:\",q_vars,\"\\n\")\n",
    "print(\"There are\",len(c_vars),\"categorical variables\")\n",
    "\n",
    "#c_vars contains a list of all the categorical variables, q_vars contains the latter (quantitative)\n"
   ]
  },
  {
   "cell_type": "markdown",
   "metadata": {},
   "source": [
    "<h2>Why 'MSSubClass' is a categorical variable (exception)</h2>\n",
    "<p align='justify'>At first it may appear that <b>MSSubClass</b> is a quantitative variable as it appears to have integers as data values instead of string descriptions, however the integers represent the following data:</p>\n",
    "<ul>\n",
    "    <li>20\t1-STORY 1946 & NEWER ALL STYLES</li>\n",
    "    <li>30\t1-STORY 1945 & OLDER</li>\n",
    "    <li>40\t1-STORY W/FINISHED ATTIC ALL AGES</li>\n",
    "    <li>45\t1-1/2 STORY - UNFINISHED ALL AGES</li>\n",
    "    <li>50\t1-1/2 STORY FINISHED ALL AGES</li>\n",
    "</ul>\n",
    "<p align='justify'><b>...</b> and so on (full details in data_description.txt)</p>"
   ]
  },
  {
   "cell_type": "code",
   "execution_count": 6,
   "metadata": {},
   "outputs": [
    {
     "name": "stdout",
     "output_type": "stream",
     "text": [
      "LotFrontage - Missing: 259 Present: 1201 \n",
      "\n",
      "Alley - Missing: 1369 Present: 91 \n",
      "\n"
     ]
    }
   ],
   "source": [
    "#Dealing with missing values\n",
    "num_missing = 0\n",
    "num_present = 0\n",
    "for i in df_specific:\n",
    "    missing_vals= pd.isna(df_specific[i])\n",
    "    for value in missing_vals:\n",
    "        if value==True:\n",
    "            num_missing+=1\n",
    "        else:\n",
    "            num_present+=1\n",
    "    #Only print the variables with values missing\n",
    "    if num_missing!=0:\n",
    "        print(i,'- Missing:',num_missing,'Present:',num_present,'\\n')\n",
    "    #Reset counters\n",
    "    num_missing=0;\n",
    "    num_present=0;\n",
    "    \n"
   ]
  },
  {
   "cell_type": "code",
   "execution_count": 7,
   "metadata": {},
   "outputs": [
    {
     "name": "stdout",
     "output_type": "stream",
     "text": [
      "0    RL\n",
      "1    RL\n",
      "2    RL\n",
      "3    RL\n",
      "4    RL\n",
      "Name: MSZoning, dtype: object\n",
      "   C (all)  FV  RH  RL  RM\n",
      "0        0   0   0   1   0\n",
      "1        0   0   0   1   0\n",
      "2        0   0   0   1   0\n",
      "3        0   0   0   1   0\n",
      "4        0   0   0   1   0\n"
     ]
    }
   ],
   "source": [
    "#Dealing with dummy variables example\n",
    "#If we have a categorical variables, e.g. MSZoning\n",
    "print(df_specific['MSZoning'].head(5))\n",
    "\n",
    "#But we need to compare them individually to another categorical variables say - LandContour, we can make a dummy df\n",
    "df_mszoning_dummy = pd.get_dummies(df_specific['MSZoning'])\n",
    "print(df_mszoning_dummy.head(5))\n",
    "#So now, it has a quantitative measure"
   ]
  },
  {
   "cell_type": "markdown",
   "metadata": {},
   "source": [
    "<h3>Comparing the <u>categorical</u> variables to each other and quantitative data</h3>"
   ]
  },
  {
   "cell_type": "code",
   "execution_count": 8,
   "metadata": {
    "scrolled": true
   },
   "outputs": [
    {
     "data": {
      "text/plain": [
       "[Text(0, 0.5, 'Style'), Text(0.5, 0, 'Zone/Area')]"
      ]
     },
     "execution_count": 8,
     "metadata": {},
     "output_type": "execute_result"
    },
    {
     "data": {
      "image/png": "[encoded data removed]",
      "text/plain": [
       "<Figure size 432x288 with 1 Axes>"
      ]
     },
     "metadata": {
      "needs_background": "light"
     },
     "output_type": "display_data"
    }
   ],
   "source": [
    "#Query 1: MSZoning and MSSubClass, compare the different styles of houses with the locations\n",
    "#Prediction: 1-story houses are likely to be in residential low denstiy areas\n",
    "sub_zone = pd.concat([df_specific['MSZoning'],df_specific['MSSubClass']],axis=1)\n",
    "fig = sns.boxplot(x='MSZoning',y='MSSubClass',data=sub_zone)\n",
    "fig.set(xlabel='Zone/Area',ylabel='Style')\n",
    "\n",
    "#Conclusion, if we look at \"RL\" we can observe that most of the houses are between no. 25-75 (which are 1-story houses)\n",
    "#Therefore, our prediction was accurate"
   ]
  },
  {
   "cell_type": "code",
   "execution_count": 10,
   "metadata": {},
   "outputs": [
    {
     "data": {
      "text/plain": [
       "Text(0, 0.5, 'Area')"
      ]
     },
     "execution_count": 10,
     "metadata": {},
     "output_type": "execute_result"
    },
    {
     "data": {
      "image/png": "[encoded data removed]",
      "text/plain": [
       "<Figure size 432x288 with 1 Axes>"
      ]
     },
     "metadata": {
      "needs_background": "light"
     },
     "output_type": "display_data"
    }
   ],
   "source": [
    "#Query 2: LotShape and LotArea, compare the different types of lot shapes and see how their max areas compare\n",
    "lot = pd.concat([df_specific['LotShape'],df_specific['LotArea']],axis=1)\n",
    "fig = plt.bar(df_specific['LotShape'],df_specific['LotArea'])\n",
    "plt.xlabel('Lot Shape')\n",
    "plt.ylabel('Area')\n",
    "#Conclusion: Highly irregular lots have the highest range of lot area, this may be due to the fact that it takes \n",
    "#more effort to make the general shape of the property to regular"
   ]
  },
  {
   "cell_type": "code",
   "execution_count": 11,
   "metadata": {},
   "outputs": [
    {
     "data": {
      "text/plain": [
       "<BarContainer object of 1460 artists>"
      ]
     },
     "execution_count": 11,
     "metadata": {},
     "output_type": "execute_result"
    },
    {
     "data": {
      "image/png": "[encoded data removed]",
      "text/plain": [
       "<Figure size 1440x1440 with 1 Axes>"
      ]
     },
     "metadata": {
      "needs_background": "light"
     },
     "output_type": "display_data"
    }
   ],
   "source": [
    "#Query 3: How do neighborhood sale prices compare?\n",
    "plt.figure(figsize=(20,20))\n",
    "plt.barh(df_specific['Neighborhood'],df_specific['SalePrice'],color='green')\n",
    "#Conclusion: the neighborhood with the most expensive house is NoRidge"
   ]
  },
  {
   "cell_type": "code",
   "execution_count": 12,
   "metadata": {},
   "outputs": [
    {
     "name": "stderr",
     "output_type": "stream",
     "text": [
      "/usr/local/lib/python3.5/dist-packages/scipy/stats/stats.py:1713: FutureWarning: Using a non-tuple sequence for multidimensional indexing is deprecated; use `arr[tuple(seq)]` instead of `arr[seq]`. In the future this will be interpreted as an array index, `arr[np.array(seq)]`, which will result either in an error or a different result.\n",
      "  return np.add.reduce(sorted[indexer] * weights, axis=axis) / sumval\n"
     ]
    },
    {
     "data": {
      "image/png": "[encoded data removed]",
      "text/plain": [
       "<Figure size 432x288 with 1 Axes>"
      ]
     },
     "metadata": {
      "needs_background": "light"
     },
     "output_type": "display_data"
    },
    {
     "data": {
      "text/plain": [
       "Text(0, 0.5, 'Sale Price')"
      ]
     },
     "execution_count": 12,
     "metadata": {},
     "output_type": "execute_result"
    },
    {
     "data": {
      "image/png": "[encoded data removed]",
      "text/plain": [
       "<Figure size 432x288 with 1 Axes>"
      ]
     },
     "metadata": {
      "needs_background": "light"
     },
     "output_type": "display_data"
    }
   ],
   "source": [
    "#Query 4: How is lot frontage distributed? This is an example on how to deal with missing values and how is it related to sale price?\n",
    "lot_frontage = df_specific.LotFrontage[df_specific['LotFrontage'].notna()]\n",
    "sns.distplot(lot_frontage)\n",
    "plt.xlabel('Lot Frontage')\n",
    "plt.ylabel('Frequency')\n",
    "plt.title('Lot Frontage Distribution')\n",
    "plt.show()\n",
    "plt.scatter(df_specific['LotFrontage'],df_specific['SalePrice'])\n",
    "plt.xlabel('Lot Frontage')\n",
    "plt.ylabel('Sale Price')\n",
    "#Conclusion: It appears that lot frontage follows a normal distribution approximately and it does affect the sale price in a linear way\n"
   ]
  },
  {
   "cell_type": "code",
   "execution_count": 13,
   "metadata": {},
   "outputs": [
    {
     "data": {
      "text/plain": [
       "Text(0, 0.5, 'Sale Price')"
      ]
     },
     "execution_count": 13,
     "metadata": {},
     "output_type": "execute_result"
    },
    {
     "data": {
      "image/png": "[encoded data removed]",
      "text/plain": [
       "<Figure size 432x288 with 1 Axes>"
      ]
     },
     "metadata": {
      "needs_background": "light"
     },
     "output_type": "display_data"
    }
   ],
   "source": [
    "#Query 5: How does the lot configuration affect the sale price?\n",
    "lotconfig_sale = df_specific[['LotConfig','SalePrice']]\n",
    "sns.barplot(df_specific['LotConfig'],df_specific['SalePrice'],data=lotconfig_sale)\n",
    "plt.xlabel('Lot Config')\n",
    "plt.ylabel('Sale Price')\n",
    "#Conclusion: The cul-de-sac has the highest sale price on average, The margin of error in the data for FR3 is much higher\n",
    "#than the rest"
   ]
  },
  {
   "cell_type": "code",
   "execution_count": 30,
   "metadata": {},
   "outputs": [
    {
     "data": {
      "text/plain": [
       "Text(0.5, 1.0, 'Style of house with sale price and street')"
      ]
     },
     "execution_count": 30,
     "metadata": {},
     "output_type": "execute_result"
    },
    {
     "data": {
      "image/png": "[encoded data removed]",
      "text/plain": [
       "<Figure size 432x288 with 1 Axes>"
      ]
     },
     "metadata": {
      "needs_background": "light"
     },
     "output_type": "display_data"
    }
   ],
   "source": [
    "#Query 6: How does the style of house affect the sale price? To get even more information we can add a hue\n",
    "#(further splitting the data) into another categorical variables - the street to which the house connects to\n",
    "housestyle_sale = pd.concat([df_specific['HouseStyle'],df_specific['SalePrice'],df_specific['Street']],axis=1)\n",
    "sns.barplot(df_specific['HouseStyle'],df_specific['SalePrice'],data=housestyle_sale,hue='Street')\n",
    "plt.xlabel('House Style')\n",
    "plt.ylabel('Sale Price')\n",
    "plt.title('Style of house with sale price and street')\n",
    "#Conclusion: There are more paved streets connecting to each house, The highest sale price appears to be the\n",
    "#one and half story house, which is connected with a gravel road, the largest margin of error is in the 2.5Fin"
   ]
  },
  {
   "cell_type": "code",
   "execution_count": null,
   "metadata": {},
   "outputs": [],
   "source": []
  }
 ],
 "metadata": {
  "kernelspec": {
   "display_name": "Python 3",
   "language": "python",
   "name": "python3"
  },
  "language_info": {
   "codemirror_mode": {
    "name": "ipython",
    "version": 3
   },
   "file_extension": ".py",
   "mimetype": "text/x-python",
   "name": "python",
   "nbconvert_exporter": "python",
   "pygments_lexer": "ipython3",
   "version": "3.7.1"
  }
 },
 "nbformat": 4,
 "nbformat_minor": 2
}
